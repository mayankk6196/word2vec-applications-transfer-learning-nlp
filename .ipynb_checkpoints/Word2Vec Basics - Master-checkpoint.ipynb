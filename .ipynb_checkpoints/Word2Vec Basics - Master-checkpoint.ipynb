{
 "cells": [
  {
   "cell_type": "markdown",
   "metadata": {},
   "source": [
    "\n",
    "## Word2Vec Model\n",
    "- Word2Vec Google's Pretrained Model\n",
    "- Contains vector representations of 50 billion words\n",
    "\n",
    "- Words which are similar in context have similar vectors\n",
    "- Distance/Similarity between two words can be measured using Cosine Distance\n"
   ]
  },
  {
   "cell_type": "markdown",
   "metadata": {},
   "source": [
    "### Applications\n",
    "- Text Similarity\n",
    "- Language Translation\n",
    "- Finding Odd Words\n",
    "- Word Analogies\n"
   ]
  },
  {
   "cell_type": "markdown",
   "metadata": {},
   "source": [
    "### Word Embeddings\n",
    "- Word embeddings are numerical representation of words, in the form of vectors.\n",
    "\n",
    "- Word2Vec Model represents each word as 300 Dimensional Vector\n",
    "\n",
    "- In this tutorial we are going to see how to use pre-trained word2vec model.\n",
    "- Model size is around 1.5 GB\n",
    "- We will work using Gensim, which is popular NLP Package.\n"
   ]
  },
  {
   "cell_type": "markdown",
   "metadata": {},
   "source": [
    "Gensim's Word2Vec Model provides optimum implementation of \n",
    "\n",
    "1) **CBOW** Model \n",
    "\n",
    "2) **SkipGram Model**\n",
    "\n",
    "\n",
    "Paper 1 [Efficient Estimation of Word Representations in\n",
    "Vector Space](https://arxiv.org/pdf/1301.3781.pdf)\n",
    "\n",
    "\n",
    "Paper 2 [Distributed Representations of Words and Phrases and their Compositionality\n",
    "](https://arxiv.org/abs/1310.4546)"
   ]
  },
  {
   "cell_type": "markdown",
   "metadata": {},
   "source": [
    "### Word2Vec using Gensim\n",
    "`Link https://radimrehurek.com/gensim/models/word2vec.html`"
   ]
  },
  {
   "cell_type": "markdown",
   "metadata": {},
   "source": [
    "### CODE ##"
   ]
  },
  {
   "cell_type": "markdown",
   "metadata": {},
   "source": [
    "##### Load Word2Vec Model"
   ]
  },
  {
   "cell_type": "markdown",
   "metadata": {},
   "source": [
    "\n",
    "**KeyedVectors** - This object essentially contains the mapping between words and embeddings. After training, it can be used directly to query those embeddings in various ways"
   ]
  },
  {
   "cell_type": "code",
   "execution_count": 1,
   "metadata": {},
   "outputs": [
    {
     "name": "stderr",
     "output_type": "stream",
     "text": [
      "c:\\python36\\lib\\site-packages\\gensim\\utils.py:1212: UserWarning: detected Windows; aliasing chunkize to chunkize_serial\n",
      "  warnings.warn(\"detected Windows; aliasing chunkize to chunkize_serial\")\n"
     ]
    }
   ],
   "source": [
    "import gensim\n",
    "from gensim.models import word2vec\n",
    "from gensim.models import KeyedVectors\n",
    "from sklearn.metrics.pairwise import cosine_similarity"
   ]
  },
  {
   "cell_type": "code",
   "execution_count": 2,
   "metadata": {},
   "outputs": [],
   "source": [
    "word_vectors = KeyedVectors.load_word2vec_format('GoogleNews-vectors-negative300.bin',binary=True)"
   ]
  },
  {
   "cell_type": "code",
   "execution_count": 3,
   "metadata": {},
   "outputs": [],
   "source": [
    "v_apple = word_vectors[\"apple\"] \n",
    "v_mango = word_vectors[\"india\"]"
   ]
  },
  {
   "cell_type": "code",
   "execution_count": 4,
   "metadata": {},
   "outputs": [
    {
     "name": "stdout",
     "output_type": "stream",
     "text": [
      "(300,)\n",
      "(300,)\n"
     ]
    }
   ],
   "source": [
    "print(v_apple.shape)\n",
    "print(v_mango.shape)"
   ]
  },
  {
   "cell_type": "code",
   "execution_count": 5,
   "metadata": {},
   "outputs": [
    {
     "data": {
      "text/plain": [
       "array([[0.17158596]], dtype=float32)"
      ]
     },
     "execution_count": 5,
     "metadata": {},
     "output_type": "execute_result"
    }
   ],
   "source": [
    "cosine_similarity([v_mango],[v_apple])"
   ]
  },
  {
   "cell_type": "code",
   "execution_count": 6,
   "metadata": {},
   "outputs": [],
   "source": [
    "import numpy as np"
   ]
  },
  {
   "cell_type": "markdown",
   "metadata": {},
   "source": [
    "## 1. Find the Odd One Out"
   ]
  },
  {
   "cell_type": "code",
   "execution_count": 7,
   "metadata": {},
   "outputs": [],
   "source": [
    "def odd_one_out(words):\n",
    "    \"\"\"Accepts a list of words and returns the odd word\"\"\"\n",
    "    \n",
    "    # Generate all word embeddings for the given list\n",
    "    all_word_vectors = [word_vectors[w] for w in words]\n",
    "    avg_vector = np.mean(all_word_vectors,axis=0)\n",
    "    print(avg_vector.shape)\n",
    "    \n",
    "    #Iterate over every word and find similarity\n",
    "    odd_one_out = None\n",
    "    min_similarity = 1.0 #Very high value\n",
    "    \n",
    "    for w in words:\n",
    "        sim = cosine_similarity([word_vectors[w]],[avg_vector])\n",
    "        if sim < min_similarity:\n",
    "            min_similarity = sim\n",
    "            odd_one_out = w\n",
    "    \n",
    "        print(\"Similairy btw %s and avg vector is %.2f\"%(w,sim))\n",
    "            \n",
    "    return odd_one_out"
   ]
  },
  {
   "cell_type": "code",
   "execution_count": 9,
   "metadata": {},
   "outputs": [],
   "source": [
    "input_1 = [\"apple\",\"mango\",\"juice\",\"party\",\"orange\"] \n",
    "input_2 = [\"music\",\"dance\",\"sleep\",\"dancer\",\"food\"]        \n",
    "input_3  = [\"match\",\"player\",\"football\",\"cricket\",\"dancer\"]\n",
    "input_4 = [\"india\",\"paris\",\"russia\",\"france\",\"germany\"]"
   ]
  },
  {
   "cell_type": "code",
   "execution_count": 10,
   "metadata": {},
   "outputs": [
    {
     "name": "stdout",
     "output_type": "stream",
     "text": [
      "(300,)\n",
      "Similairy btw apple and avg vector is 0.78\n",
      "Similairy btw mango and avg vector is 0.76\n",
      "Similairy btw juice and avg vector is 0.71\n",
      "Similairy btw party and avg vector is 0.36\n",
      "Similairy btw orange and avg vector is 0.65\n"
     ]
    },
    {
     "data": {
      "text/plain": [
       "'party'"
      ]
     },
     "execution_count": 10,
     "metadata": {},
     "output_type": "execute_result"
    }
   ],
   "source": [
    "odd_one_out(input_1) "
   ]
  },
  {
   "cell_type": "code",
   "execution_count": 11,
   "metadata": {},
   "outputs": [
    {
     "name": "stdout",
     "output_type": "stream",
     "text": [
      "(300,)\n",
      "Similairy btw music and avg vector is 0.66\n",
      "Similairy btw dance and avg vector is 0.81\n",
      "Similairy btw sleep and avg vector is 0.51\n",
      "Similairy btw dancer and avg vector is 0.72\n",
      "Similairy btw food and avg vector is 0.52\n"
     ]
    },
    {
     "data": {
      "text/plain": [
       "'sleep'"
      ]
     },
     "execution_count": 11,
     "metadata": {},
     "output_type": "execute_result"
    }
   ],
   "source": [
    "odd_one_out(input_2) "
   ]
  },
  {
   "cell_type": "code",
   "execution_count": 12,
   "metadata": {},
   "outputs": [
    {
     "name": "stdout",
     "output_type": "stream",
     "text": [
      "(300,)\n",
      "Similairy btw match and avg vector is 0.58\n",
      "Similairy btw player and avg vector is 0.68\n",
      "Similairy btw football and avg vector is 0.72\n",
      "Similairy btw cricket and avg vector is 0.70\n",
      "Similairy btw dancer and avg vector is 0.53\n"
     ]
    },
    {
     "data": {
      "text/plain": [
       "'dancer'"
      ]
     },
     "execution_count": 12,
     "metadata": {},
     "output_type": "execute_result"
    }
   ],
   "source": [
    "odd_one_out(input_3)"
   ]
  },
  {
   "cell_type": "code",
   "execution_count": 13,
   "metadata": {},
   "outputs": [
    {
     "name": "stdout",
     "output_type": "stream",
     "text": [
      "(300,)\n",
      "Similairy btw india and avg vector is 0.81\n",
      "Similairy btw paris and avg vector is 0.75\n",
      "Similairy btw russia and avg vector is 0.79\n",
      "Similairy btw france and avg vector is 0.81\n",
      "Similairy btw germany and avg vector is 0.84\n"
     ]
    },
    {
     "data": {
      "text/plain": [
       "'paris'"
      ]
     },
     "execution_count": 13,
     "metadata": {},
     "output_type": "execute_result"
    }
   ],
   "source": [
    "odd_one_out(input_4)"
   ]
  },
  {
   "cell_type": "markdown",
   "metadata": {},
   "source": [
    "### 2. Word Analogies Task"
   ]
  },
  {
   "cell_type": "markdown",
   "metadata": {},
   "source": [
    "In the word analogy task, we complete the sentence \"a is to b as c is to __\". An example is 'man is to woman as king is to queen' . In detail, we are trying to find a word d, such that the associated word vectors `ea,eb,ec,ed` are related in the following manner: `eb−ea≈ed−ec`. We will measure the similarity between `eb−ea` and `ed−ec` using cosine similarity. \n",
    "\n",
    "![Word2Vec](./images/word2vec.png)"
   ]
  },
  {
   "cell_type": "markdown",
   "metadata": {},
   "source": [
    "`man -> woman :: \tprince -> princess`  \n",
    "`italy -> italian :: \tspain -> spanish`  \n",
    "`india -> delhi :: \tjapan -> tokyo`  \n",
    "`man -> woman :: \tboy -> girl`  \n",
    "`small -> smaller :: \tlarge -> larger`  \n",
    "\n",
    "#### Try it out \n",
    "\n",
    "\n",
    "`man -> coder :: woman -> ______?`\n"
   ]
  },
  {
   "cell_type": "code",
   "execution_count": 4,
   "metadata": {},
   "outputs": [
    {
     "data": {
      "text/plain": [
       "dict"
      ]
     },
     "execution_count": 4,
     "metadata": {},
     "output_type": "execute_result"
    }
   ],
   "source": [
    "type(word_vectors.vocab)"
   ]
  },
  {
   "cell_type": "code",
   "execution_count": 6,
   "metadata": {},
   "outputs": [
    {
     "data": {
      "text/plain": [
       "(300,)"
      ]
     },
     "execution_count": 6,
     "metadata": {},
     "output_type": "execute_result"
    }
   ],
   "source": [
    "word_vectors[\"man\"].shape"
   ]
  },
  {
   "cell_type": "code",
   "execution_count": 7,
   "metadata": {},
   "outputs": [],
   "source": [
    "def predict_word(a,b,c,word_vectors):\n",
    "    \"\"\"Accepts a triad of words, a,b,c and returns d such that a is to b : c is to d\"\"\"\n",
    "    a,b,c = a.lower(),b.lower(),c.lower()\n",
    "    \n",
    "    # similarity |b-a| = |d-c| should be max\n",
    "    max_similarity = -100 \n",
    "    \n",
    "    d = None\n",
    "    \n",
    "    words = word_vectors.vocab.keys()\n",
    "    \n",
    "    wa,wb,wc = word_vectors[a],word_vectors[b],word_vectors[c]\n",
    "    \n",
    "    #to find d s.t similarity(|b-a|,|d-c|) should be max\n",
    "    \n",
    "    for w in words:\n",
    "        if w in [a,b,c]:\n",
    "            continue\n",
    "        \n",
    "        wv = word_vectors[w]\n",
    "        sim = cosine_similarity([wb-wa],[wv-wc])\n",
    "        \n",
    "        if sim > max_similarity:\n",
    "            max_similarity = sim\n",
    "            d = w\n",
    "            \n",
    "    return d    "
   ]
  },
  {
   "cell_type": "code",
   "execution_count": 34,
   "metadata": {},
   "outputs": [
    {
     "data": {
      "text/plain": [
       "'princess'"
      ]
     },
     "execution_count": 34,
     "metadata": {},
     "output_type": "execute_result"
    }
   ],
   "source": [
    "triad_2 = (\"man\",\"woman\",\"prince\")\n",
    "predict_word(*triad_2,word_vectors)\n"
   ]
  },
  {
   "cell_type": "markdown",
   "metadata": {},
   "source": [
    "## Using the Most Similar Method"
   ]
  },
  {
   "cell_type": "code",
   "execution_count": 33,
   "metadata": {},
   "outputs": [
    {
     "name": "stderr",
     "output_type": "stream",
     "text": [
      "c:\\python36\\lib\\site-packages\\gensim\\matutils.py:737: FutureWarning: Conversion of the second argument of issubdtype from `int` to `np.signedinteger` is deprecated. In future, it will be treated as `np.int32 == np.dtype(int).type`.\n",
      "  if np.issubdtype(vec.dtype, np.int):\n"
     ]
    },
    {
     "data": {
      "text/plain": [
       "[('queen', 0.7118192911148071)]"
      ]
     },
     "execution_count": 33,
     "metadata": {},
     "output_type": "execute_result"
    }
   ],
   "source": [
    "word_vectors.most_similar(positive=['woman', 'king'], negative=['man'], topn=1)"
   ]
  },
  {
   "cell_type": "markdown",
   "metadata": {},
   "source": [
    "## 3. Training Your Own Word2Vec Model"
   ]
  },
  {
   "cell_type": "markdown",
   "metadata": {},
   "source": [
    "Word2Vec model can learn embeddings from any text corpus!\n",
    "- Continuous Bag of Words Model\n",
    "- Skip Gram Model\n",
    "\n",
    "`Algorithm looks at window of target word(Y) to provide context word(X), the model is trained on (X,Y) pairs in a superwised manner.` The algorithm was developed by Tomas Mikolov."
   ]
  },
  {
   "cell_type": "markdown",
   "metadata": {},
   "source": [
    "#### Data Preparation\n"
   ]
  },
  {
   "cell_type": "markdown",
   "metadata": {},
   "source": [
    "\n",
    "- Each sentence must be tokenized, into a list of words.\n",
    "\n",
    "- The sentences can be text loaded into memory once,\n",
    "or we can build a data pipeline which iteratively feeds data to the model.\n"
   ]
  },
  {
   "cell_type": "code",
   "execution_count": 259,
   "metadata": {},
   "outputs": [],
   "source": [
    "import nltk\n",
    "from nltk.corpus import stopwords"
   ]
  },
  {
   "cell_type": "code",
   "execution_count": 260,
   "metadata": {},
   "outputs": [],
   "source": [
    "stopw  = set(stopwords.words('english'))"
   ]
  },
  {
   "cell_type": "code",
   "execution_count": 261,
   "metadata": {},
   "outputs": [],
   "source": [
    "## Read the file \n",
    "def readFile(file): \n",
    "    f = open(file,'r',encoding='utf-8')\n",
    "    text = f.read()\n",
    "    sentences = nltk.sent_tokenize(text)\n",
    "    \n",
    "    data = []\n",
    "    for sent in sentences:\n",
    "        words =  nltk.word_tokenize(sent)\n",
    "        words = [w.lower() for w in words if len(w)>2 and w not in stopw]\n",
    "        data.append(words)\n",
    "        \n",
    "    return data\n",
    "\n",
    "text = readFile('bollywood.txt')"
   ]
  },
  {
   "cell_type": "code",
   "execution_count": 262,
   "metadata": {},
   "outputs": [
    {
     "name": "stdout",
     "output_type": "stream",
     "text": [
      "[['deepika', 'padukone', 'ranveer', 'singh', 'wedding', 'one', 'biggest', 'bollywood', 'events', 'happened', '2018'], ['the', 'deepika', 'ranveer', 'celebrations', 'hooked', 'phones', 'waiting', 'come', 'also', 'gave', 'enough', 'reason', 'believe', 'stylish', 'two', 'couple'], ['from', 'airport', 'looks', 'reception', 'parties', 'everything', 'entire', 'timeline', 'deepika', 'ranveer', 'wedding', 'style', 'file'], ['not', 'ambanis', 'deepika', 'ranveer', 'priyanka', 'nick'], ['man', 'proves', 'wedding', 'the', 'year', 'this', 'year', 'year', 'big', 'fat', 'lavish', 'extravagant', 'weddings'], ['from', 'isha', 'ambani', 'anand', 'piramal', 'deepika', 'padukone', 'ranveer', 'singh', 'priyanka', 'chopra', 'nick', 'jonas', 'kapil', 'sharma', 'ginni', 'chatrath', '2018', 'saw', 'many', 'grand', 'weddings'], ['but', 'nothing', 'beats', 'man', 'wedding', 'the', 'year', 'award', 'social', 'media'], ['priyanka', 'also', 'shared', 'video', 'featuring', 'nick', 'jonaswas', 'also', 'celebrating', 'the', 'family', 'first', 'celebrated', 'christmas', 'london', 'pictures', 'priyanka', 'chopra', 'nick', 'jonas', 'new', 'year', 'celebrations', 'outstanding.priyanka', 'chopra', 'nick', 'shared', 'glimpses', 'celebration', 'verbier', 'switzerland.priyanka', 'chopra', 'married', 'nick', 'jonas', 'december', 'three', 'wedding', 'receptions', 'one', 'new', 'delhi', 'two', 'mumbai']]\n"
     ]
    }
   ],
   "source": [
    "print(text)"
   ]
  },
  {
   "cell_type": "code",
   "execution_count": 263,
   "metadata": {},
   "outputs": [],
   "source": [
    "from gensim.models import Word2Vec"
   ]
  },
  {
   "cell_type": "code",
   "execution_count": 264,
   "metadata": {},
   "outputs": [],
   "source": [
    "model = Word2Vec(text,size=300,window=10,min_count=1)"
   ]
  },
  {
   "cell_type": "code",
   "execution_count": 265,
   "metadata": {},
   "outputs": [
    {
     "name": "stdout",
     "output_type": "stream",
     "text": [
      "Word2Vec(vocab=90, size=300, alpha=0.025)\n"
     ]
    }
   ],
   "source": [
    "print(model)"
   ]
  },
  {
   "cell_type": "code",
   "execution_count": 266,
   "metadata": {},
   "outputs": [],
   "source": [
    "words = list(model.wv.vocab)"
   ]
  },
  {
   "cell_type": "code",
   "execution_count": 267,
   "metadata": {},
   "outputs": [
    {
     "name": "stdout",
     "output_type": "stream",
     "text": [
      "['deepika', 'padukone', 'ranveer', 'singh', 'wedding', 'one', 'biggest', 'bollywood', 'events', 'happened', '2018', 'the', 'celebrations', 'hooked', 'phones', 'waiting', 'come', 'also', 'gave', 'enough', 'reason', 'believe', 'stylish', 'two', 'couple', 'from', 'airport', 'looks', 'reception', 'parties', 'everything', 'entire', 'timeline', 'style', 'file', 'not', 'ambanis', 'priyanka', 'nick', 'man', 'proves', 'year', 'this', 'big', 'fat', 'lavish', 'extravagant', 'weddings', 'isha', 'ambani', 'anand', 'piramal', 'chopra', 'jonas', 'kapil', 'sharma', 'ginni', 'chatrath', 'saw', 'many', 'grand', 'but', 'nothing', 'beats', 'award', 'social', 'media', 'shared', 'video', 'featuring', 'jonaswas', 'celebrating', 'family', 'first', 'celebrated', 'christmas', 'london', 'pictures', 'new', 'outstanding.priyanka', 'glimpses', 'celebration', 'verbier', 'switzerland.priyanka', 'married', 'december', 'three', 'receptions', 'delhi', 'mumbai']\n"
     ]
    }
   ],
   "source": [
    "print(words)"
   ]
  },
  {
   "cell_type": "code",
   "execution_count": 268,
   "metadata": {},
   "outputs": [
    {
     "name": "stdout",
     "output_type": "stream",
     "text": [
      "(300,)\n"
     ]
    },
    {
     "name": "stderr",
     "output_type": "stream",
     "text": [
      "c:\\python36\\lib\\site-packages\\ipykernel_launcher.py:1: DeprecationWarning: Call to deprecated `__getitem__` (Method will be removed in 4.0.0, use self.wv.__getitem__() instead).\n",
      "  \"\"\"Entry point for launching an IPython kernel.\n"
     ]
    }
   ],
   "source": [
    "print(model[\"deepika\"].shape)"
   ]
  },
  {
   "cell_type": "code",
   "execution_count": 269,
   "metadata": {},
   "outputs": [
    {
     "data": {
      "text/plain": [
       "{'deepika': <gensim.models.keyedvectors.Vocab at 0x1a2ff959fd0>,\n",
       " 'padukone': <gensim.models.keyedvectors.Vocab at 0x1a2ff959550>,\n",
       " 'ranveer': <gensim.models.keyedvectors.Vocab at 0x1a2ff959f28>,\n",
       " 'singh': <gensim.models.keyedvectors.Vocab at 0x1a2ff9599e8>,\n",
       " 'wedding': <gensim.models.keyedvectors.Vocab at 0x1a2ff719198>,\n",
       " 'one': <gensim.models.keyedvectors.Vocab at 0x1a2ff7190f0>,\n",
       " 'biggest': <gensim.models.keyedvectors.Vocab at 0x1a2ff719128>,\n",
       " 'bollywood': <gensim.models.keyedvectors.Vocab at 0x1a2ff719f60>,\n",
       " 'events': <gensim.models.keyedvectors.Vocab at 0x1a2ff7198d0>,\n",
       " 'happened': <gensim.models.keyedvectors.Vocab at 0x1a2ff719160>,\n",
       " '2018': <gensim.models.keyedvectors.Vocab at 0x1a2ff7b5f60>,\n",
       " 'the': <gensim.models.keyedvectors.Vocab at 0x1a2ff7b5dd8>,\n",
       " 'celebrations': <gensim.models.keyedvectors.Vocab at 0x1a18b90fd30>,\n",
       " 'hooked': <gensim.models.keyedvectors.Vocab at 0x1a18b90fcf8>,\n",
       " 'phones': <gensim.models.keyedvectors.Vocab at 0x1a18b90f4a8>,\n",
       " 'waiting': <gensim.models.keyedvectors.Vocab at 0x1a18b90fc88>,\n",
       " 'come': <gensim.models.keyedvectors.Vocab at 0x1a18b90f7f0>,\n",
       " 'also': <gensim.models.keyedvectors.Vocab at 0x1a18b90f630>,\n",
       " 'gave': <gensim.models.keyedvectors.Vocab at 0x1a18b90fb70>,\n",
       " 'enough': <gensim.models.keyedvectors.Vocab at 0x1a18b90f240>,\n",
       " 'reason': <gensim.models.keyedvectors.Vocab at 0x1a18b90f278>,\n",
       " 'believe': <gensim.models.keyedvectors.Vocab at 0x1a18b90ff28>,\n",
       " 'stylish': <gensim.models.keyedvectors.Vocab at 0x1a18b90f7b8>,\n",
       " 'two': <gensim.models.keyedvectors.Vocab at 0x1a18aca8a20>,\n",
       " 'couple': <gensim.models.keyedvectors.Vocab at 0x1a18aa66d68>,\n",
       " 'from': <gensim.models.keyedvectors.Vocab at 0x1a18aa6bcc0>,\n",
       " 'airport': <gensim.models.keyedvectors.Vocab at 0x1a18aa6be48>,\n",
       " 'looks': <gensim.models.keyedvectors.Vocab at 0x1a18a0f0160>,\n",
       " 'reception': <gensim.models.keyedvectors.Vocab at 0x1a18a0f0048>,\n",
       " 'parties': <gensim.models.keyedvectors.Vocab at 0x1a18a0f04a8>,\n",
       " 'everything': <gensim.models.keyedvectors.Vocab at 0x1a18a0f0da0>,\n",
       " 'entire': <gensim.models.keyedvectors.Vocab at 0x1a18a0f0fd0>,\n",
       " 'timeline': <gensim.models.keyedvectors.Vocab at 0x1a18a0f0b70>,\n",
       " 'style': <gensim.models.keyedvectors.Vocab at 0x1a18a0f0518>,\n",
       " 'file': <gensim.models.keyedvectors.Vocab at 0x1a18a0f0128>,\n",
       " 'not': <gensim.models.keyedvectors.Vocab at 0x1a18a0f0940>,\n",
       " 'ambanis': <gensim.models.keyedvectors.Vocab at 0x1a18a0f0ef0>,\n",
       " 'priyanka': <gensim.models.keyedvectors.Vocab at 0x1a18a0f08d0>,\n",
       " 'nick': <gensim.models.keyedvectors.Vocab at 0x1a18a0f09e8>,\n",
       " 'man': <gensim.models.keyedvectors.Vocab at 0x1a18a0f0b00>,\n",
       " 'proves': <gensim.models.keyedvectors.Vocab at 0x1a18a92def0>,\n",
       " 'year': <gensim.models.keyedvectors.Vocab at 0x1a18a92d080>,\n",
       " 'this': <gensim.models.keyedvectors.Vocab at 0x1a18a92dcf8>,\n",
       " 'big': <gensim.models.keyedvectors.Vocab at 0x1a18a92dda0>,\n",
       " 'fat': <gensim.models.keyedvectors.Vocab at 0x1a18aa5bdd8>,\n",
       " 'lavish': <gensim.models.keyedvectors.Vocab at 0x1a18aa5b5c0>,\n",
       " 'extravagant': <gensim.models.keyedvectors.Vocab at 0x1a18aa5bda0>,\n",
       " 'weddings': <gensim.models.keyedvectors.Vocab at 0x1a18aa5bcf8>,\n",
       " 'isha': <gensim.models.keyedvectors.Vocab at 0x1a18aa5b908>,\n",
       " 'ambani': <gensim.models.keyedvectors.Vocab at 0x1a18aa5b978>,\n",
       " 'anand': <gensim.models.keyedvectors.Vocab at 0x1a18aa5ba90>,\n",
       " 'piramal': <gensim.models.keyedvectors.Vocab at 0x1a18aa41da0>,\n",
       " 'chopra': <gensim.models.keyedvectors.Vocab at 0x1a18aa41cf8>,\n",
       " 'jonas': <gensim.models.keyedvectors.Vocab at 0x1a18ac7e208>,\n",
       " 'kapil': <gensim.models.keyedvectors.Vocab at 0x1a18ac7e588>,\n",
       " 'sharma': <gensim.models.keyedvectors.Vocab at 0x1a18ac7e550>,\n",
       " 'ginni': <gensim.models.keyedvectors.Vocab at 0x1a18ac7eef0>,\n",
       " 'chatrath': <gensim.models.keyedvectors.Vocab at 0x1a18ac7ec18>,\n",
       " 'saw': <gensim.models.keyedvectors.Vocab at 0x1a18ac7ee80>,\n",
       " 'many': <gensim.models.keyedvectors.Vocab at 0x1a18ac7eba8>,\n",
       " 'grand': <gensim.models.keyedvectors.Vocab at 0x1a18ac7e630>,\n",
       " 'but': <gensim.models.keyedvectors.Vocab at 0x1a18ac7e7b8>,\n",
       " 'nothing': <gensim.models.keyedvectors.Vocab at 0x1a18ac7e940>,\n",
       " 'beats': <gensim.models.keyedvectors.Vocab at 0x1a18ac7e748>,\n",
       " 'award': <gensim.models.keyedvectors.Vocab at 0x1a18aa542e8>,\n",
       " 'social': <gensim.models.keyedvectors.Vocab at 0x1a18aa54128>,\n",
       " 'media': <gensim.models.keyedvectors.Vocab at 0x1a18aa54c50>,\n",
       " 'shared': <gensim.models.keyedvectors.Vocab at 0x1a18ad34e80>,\n",
       " 'video': <gensim.models.keyedvectors.Vocab at 0x1a18ad34d30>,\n",
       " 'featuring': <gensim.models.keyedvectors.Vocab at 0x1a18ad34b38>,\n",
       " 'jonaswas': <gensim.models.keyedvectors.Vocab at 0x1a18ad34940>,\n",
       " 'celebrating': <gensim.models.keyedvectors.Vocab at 0x1a18ad34fd0>,\n",
       " 'family': <gensim.models.keyedvectors.Vocab at 0x1a18ad345f8>,\n",
       " 'first': <gensim.models.keyedvectors.Vocab at 0x1a18ad344a8>,\n",
       " 'celebrated': <gensim.models.keyedvectors.Vocab at 0x1a18ad34358>,\n",
       " 'christmas': <gensim.models.keyedvectors.Vocab at 0x1a18ad34be0>,\n",
       " 'london': <gensim.models.keyedvectors.Vocab at 0x1a18ad34748>,\n",
       " 'pictures': <gensim.models.keyedvectors.Vocab at 0x1a18ad34dd8>,\n",
       " 'new': <gensim.models.keyedvectors.Vocab at 0x1a18ad34f28>,\n",
       " 'outstanding.priyanka': <gensim.models.keyedvectors.Vocab at 0x1a18ad342b0>,\n",
       " 'glimpses': <gensim.models.keyedvectors.Vocab at 0x1a18ad34c88>,\n",
       " 'celebration': <gensim.models.keyedvectors.Vocab at 0x1a18ad349e8>,\n",
       " 'verbier': <gensim.models.keyedvectors.Vocab at 0x1a18ad34898>,\n",
       " 'switzerland.priyanka': <gensim.models.keyedvectors.Vocab at 0x1a18ad34208>,\n",
       " 'married': <gensim.models.keyedvectors.Vocab at 0x1a18ad34550>,\n",
       " 'december': <gensim.models.keyedvectors.Vocab at 0x1a18ad346a0>,\n",
       " 'three': <gensim.models.keyedvectors.Vocab at 0x1a18ad34a90>,\n",
       " 'receptions': <gensim.models.keyedvectors.Vocab at 0x1a18ad34160>,\n",
       " 'delhi': <gensim.models.keyedvectors.Vocab at 0x1a2e4508d68>,\n",
       " 'mumbai': <gensim.models.keyedvectors.Vocab at 0x1a18ad1be80>}"
      ]
     },
     "execution_count": 269,
     "metadata": {},
     "output_type": "execute_result"
    }
   ],
   "source": [
    "model.wv.vocab"
   ]
  },
  {
   "cell_type": "code",
   "execution_count": 270,
   "metadata": {},
   "outputs": [],
   "source": [
    "import numpy as np"
   ]
  },
  {
   "cell_type": "code",
   "execution_count": 271,
   "metadata": {},
   "outputs": [
    {
     "data": {
      "text/plain": [
       "'many'"
      ]
     },
     "execution_count": 271,
     "metadata": {},
     "output_type": "execute_result"
    }
   ],
   "source": [
    "triad_1 = (\"priyanka\",\"chopra\",\"nick\")\n",
    "triad_2 = (\"deepika\",\"saree\",\"ranveer\")\n",
    "predict_word(*triad_1,model.wv)"
   ]
  },
  {
   "cell_type": "code",
   "execution_count": 272,
   "metadata": {},
   "outputs": [
    {
     "name": "stdout",
     "output_type": "stream",
     "text": [
      "(90, 300)\n",
      "<built-in function all>\n"
     ]
    },
    {
     "name": "stderr",
     "output_type": "stream",
     "text": [
      "c:\\python36\\lib\\site-packages\\ipykernel_launcher.py:1: DeprecationWarning: Call to deprecated `__getitem__` (Method will be removed in 4.0.0, use self.wv.__getitem__() instead).\n",
      "  \"\"\"Entry point for launching an IPython kernel.\n"
     ]
    }
   ],
   "source": [
    "all_vectors = [model[w] for w in model.wv.vocab.keys()]\n",
    "all_vectors = np.array(all_vectors)\n",
    "print(all_vectors.shape)\n",
    "print(all)"
   ]
  },
  {
   "cell_type": "code",
   "execution_count": 278,
   "metadata": {},
   "outputs": [
    {
     "name": "stdout",
     "output_type": "stream",
     "text": [
      "[t-SNE] Computing 89 nearest neighbors...\n",
      "[t-SNE] Indexed 90 samples in 0.000s...\n",
      "[t-SNE] Computed neighbors for 90 samples in 0.004s...\n",
      "[t-SNE] Computed conditional probabilities for sample 90 / 90\n",
      "[t-SNE] Mean sigma: 0.004659\n",
      "[t-SNE] KL divergence after 250 iterations with early exaggeration: 60.864586\n",
      "[t-SNE] Error after 1000 iterations: 0.733616\n"
     ]
    }
   ],
   "source": [
    "from sklearn.manifold import TSNE\n",
    "#tsne = TSNE(n_components=2, verbose=1, perplexity=40, n_iter=300,random_state=1)\n",
    "#tsne = TSNE(n_components=2, verbose=1, perplexity=40, n_iter=300,random_state=1)\n",
    "tsne = TSNE(n_components=2, verbose=1,n_iter=1000,random_state=1)\n",
    "\n",
    "tsne_results = tsne.fit_transform(all_vectors)"
   ]
  },
  {
   "cell_type": "code",
   "execution_count": 279,
   "metadata": {},
   "outputs": [
    {
     "name": "stdout",
     "output_type": "stream",
     "text": [
      "[[ 2.0362742e+00 -2.6457074e+00]\n",
      " [ 1.1787918e+00 -1.5617229e+00]\n",
      " [ 2.3256481e+00 -5.1457720e+00]\n",
      " [ 2.2169530e+00 -3.4467015e+00]\n",
      " [ 4.8301888e+00 -4.5753884e+00]\n",
      " [ 3.0667384e+00 -2.8912263e+00]\n",
      " [ 3.9071503e+00 -7.3624477e+00]\n",
      " [ 4.1784782e+00 -4.6247377e+00]\n",
      " [ 2.0067613e+00 -7.7480035e+00]\n",
      " [ 1.7533606e+00 -6.1201415e+00]\n",
      " [ 4.9277925e+00 -4.8775415e+00]\n",
      " [ 1.1974841e+00 -6.0827279e+00]\n",
      " [ 1.3037409e+00 -3.5017121e+00]\n",
      " [ 1.6367832e+00 -3.0137868e+00]\n",
      " [ 4.0447445e+00 -4.6698103e+00]\n",
      " [ 5.1101856e+00 -5.4631267e+00]\n",
      " [ 7.5252616e-01 -4.4040999e+00]\n",
      " [ 3.3875039e+00 -5.7307706e+00]\n",
      " [ 1.4883294e+00 -4.0444922e+00]\n",
      " [ 4.4547477e-01 -4.7734151e+00]\n",
      " [ 1.1357051e+00 -3.5339010e+00]\n",
      " [ 3.0204839e-01 -3.4688406e+00]\n",
      " [ 8.8305110e-01 -7.3951321e+00]\n",
      " [-8.3599365e-01 -5.9883981e+00]\n",
      " [ 3.4068856e+00 -3.7639775e+00]\n",
      " [ 5.8964419e-01 -3.3832054e+00]\n",
      " [ 2.6619682e+00 -4.9900689e+00]\n",
      " [ 1.8463635e+00 -3.6583953e+00]\n",
      " [ 2.1188676e+00 -5.4818759e+00]\n",
      " [ 3.8085072e+00 -5.7651682e+00]\n",
      " [ 8.4658575e-01 -6.3542638e+00]\n",
      " [ 2.5039220e+00 -6.5533218e+00]\n",
      " [-5.3646994e-01 -5.1710653e+00]\n",
      " [ 1.8518331e+00 -4.6362653e+00]\n",
      " [-9.6068519e-01 -4.7322769e+00]\n",
      " [ 1.1082404e+00 -7.6477523e+00]\n",
      " [ 2.1637867e-03 -4.2344041e+00]\n",
      " [ 2.5803633e+00 -7.7895732e+00]\n",
      " [ 2.5930192e+00 -4.5916295e+00]\n",
      " [ 7.4986565e-01 -2.8590400e+00]\n",
      " [ 1.3298292e-01 -6.7253137e+00]\n",
      " [ 1.8000777e+00 -2.5390513e+00]\n",
      " [ 1.1305581e+00 -5.3681011e+00]\n",
      " [ 4.2482114e+00 -7.3004322e+00]\n",
      " [ 4.5994539e+00 -5.3526139e+00]\n",
      " [ 6.1095464e-01 -4.3416581e+00]\n",
      " [ 1.3518542e+00 -4.7303090e+00]\n",
      " [ 1.0144453e+00 -6.4306049e+00]\n",
      " [ 4.2890358e+00 -6.3051462e+00]\n",
      " [ 2.5882733e+00 -4.2588358e+00]\n",
      " [ 6.2895381e-01 -5.7090020e+00]\n",
      " [ 3.6430120e+00 -3.1328897e+00]\n",
      " [ 3.1693640e+00 -4.8959265e+00]\n",
      " [ 4.0139894e+00 -6.1397405e+00]\n",
      " [ 1.6803138e-01 -5.2384286e+00]\n",
      " [ 3.3794389e+00 -5.8995061e+00]\n",
      " [ 2.8993948e+00 -4.3509741e+00]\n",
      " [ 4.7667136e+00 -4.7642341e+00]\n",
      " [ 2.0007608e+00 -6.9292512e+00]\n",
      " [ 4.4858408e+00 -3.4095442e+00]\n",
      " [ 1.1187211e-01 -6.2069788e+00]\n",
      " [ 1.0713928e+00 -5.3082385e+00]\n",
      " [ 1.8168221e+00 -5.4846396e+00]\n",
      " [ 2.7114565e+00 -8.0722265e+00]\n",
      " [ 3.0566165e+00 -5.0400772e+00]\n",
      " [ 1.3838353e+00 -5.1273322e+00]\n",
      " [ 2.5083969e+00 -4.0591340e+00]\n",
      " [-8.3908945e-01 -3.0820408e+00]\n",
      " [ 2.8390002e+00 -6.4442139e+00]\n",
      " [ 8.7712479e-01 -2.9091349e+00]\n",
      " [ 3.5965583e+00 -2.7272685e+00]\n",
      " [ 1.8470401e+00 -6.8123126e+00]\n",
      " [ 2.5360980e+00 -6.1852636e+00]\n",
      " [ 1.6988215e+00 -2.4407988e+00]\n",
      " [ 1.9867816e+00 -5.8534250e+00]\n",
      " [ 1.4189265e+00 -4.1601968e+00]\n",
      " [-6.6767848e-01 -3.1901472e+00]\n",
      " [ 1.8356172e-02 -6.9668694e+00]\n",
      " [ 3.3751433e+00 -6.7980676e+00]\n",
      " [ 2.5221019e+00 -5.4028063e+00]\n",
      " [ 5.0825816e-01 -2.1933799e+00]\n",
      " [ 2.6065822e+00 -3.4656124e+00]\n",
      " [ 3.2416394e+00 -6.1130557e+00]\n",
      " [ 3.0514834e+00 -3.6614099e+00]\n",
      " [ 3.5563369e+00 -4.3106008e+00]\n",
      " [ 2.6312854e+00 -4.5054426e+00]\n",
      " [ 2.7895494e+00 -7.3369560e+00]\n",
      " [ 2.4129300e+00 -2.0090911e+00]\n",
      " [-9.9459738e-03 -4.1443896e+00]\n",
      " [ 2.2834780e+00 -1.9935571e+00]]\n"
     ]
    }
   ],
   "source": [
    "print(tsne_results)"
   ]
  },
  {
   "cell_type": "code",
   "execution_count": 280,
   "metadata": {},
   "outputs": [],
   "source": [
    "import matplotlib.pyplot as plt"
   ]
  },
  {
   "cell_type": "code",
   "execution_count": 281,
   "metadata": {},
   "outputs": [
    {
     "data": {
      "image/png": "[encoded data removed]",
      "text/plain": [
       "<Figure size 720x720 with 1 Axes>"
      ]
     },
     "metadata": {},
     "output_type": "display_data"
    }
   ],
   "source": [
    "data = tsne_results\n",
    "\n",
    "plt.figure(figsize=(10,10))\n",
    "plt.style.use('seaborn')\n",
    "plt.scatter(data[:,0],data[:,1],marker='^')\n",
    "\n",
    "keys = model.wv.vocab.keys()\n",
    "for label, x, y in zip(keys, data[:,0], data[:,1]):\n",
    "    plt.annotate(label, xy=(x, y), xytext=(0, 0), textcoords='offset points')\n",
    "    \n",
    "plt.xlabel(\"Principal Component-1\")\n",
    "plt.ylabel(\"Principal Component-2\")\n",
    "plt.title(\"TSNE Colors Plot\")\n",
    "plt.show()"
   ]
  },
  {
   "cell_type": "code",
   "execution_count": 298,
   "metadata": {},
   "outputs": [],
   "source": [
    "actors = [\"ranveer\",\"deepika\",\"nick\",\"priyanka\",\"virat\",\"anushka\",\"kapil\",\"ginni\"]\n",
    "\n",
    "def predict_actor(a,b,c,word_vectors):\n",
    "    \"\"\"Accepts a triad of words, a,b,c and returns d such that a is to b : c is to d\"\"\"\n",
    "    a,b,c = a.lower(),b.lower(),c.lower()\n",
    "    max_similarity = -100 \n",
    "    \n",
    "    d = None\n",
    "    words = actors\n",
    "    \n",
    "    wa,wb,wc = word_vectors[a],word_vectors[b],word_vectors[c]\n",
    "    \n",
    "    #to find d s.t similarity(|b-a|,|d-c|) should be max\n",
    "    \n",
    "    for w in words:\n",
    "        if w in [a,b,c]:\n",
    "            continue\n",
    "        \n",
    "        wv = word_vectors[w]\n",
    "        sim = cosine_similarity([wb-wa],[wv-wc])\n",
    "        \n",
    "        if sim > max_similarity:\n",
    "            max_similarity = sim\n",
    "            d = w\n",
    "            \n",
    "    return d    \n",
    "\n",
    "\n"
   ]
  },
  {
   "cell_type": "code",
   "execution_count": 303,
   "metadata": {},
   "outputs": [
    {
     "data": {
      "text/plain": [
       "'deepika'"
      ]
     },
     "execution_count": 303,
     "metadata": {},
     "output_type": "execute_result"
    }
   ],
   "source": [
    "triad_1 = (\"priyanka\",\"nick\",\"ranveer\")\n",
    "predict_actor(*triad_1,model.wv)"
   ]
  },
  {
   "cell_type": "code",
   "execution_count": 302,
   "metadata": {},
   "outputs": [
    {
     "data": {
      "text/plain": [
       "'priyanka'"
      ]
     },
     "execution_count": 302,
     "metadata": {},
     "output_type": "execute_result"
    }
   ],
   "source": [
    "triad_1 = (\"ranveer\",\"deepika\",\"nick\")\n",
    "predict_actor(*triad_1,model.wv)"
   ]
  },
  {
   "cell_type": "code",
   "execution_count": null,
   "metadata": {},
   "outputs": [],
   "source": [
    "triad_1 = (\"ranveer\",\"deepika\",\"nick\")\n",
    "predict_actor(*triad_1,model.wv)"
   ]
  },
  {
   "cell_type": "code",
   "execution_count": null,
   "metadata": {},
   "outputs": [],
   "source": []
  },
  {
   "cell_type": "code",
   "execution_count": null,
   "metadata": {},
   "outputs": [],
   "source": []
  }
 ],
 "metadata": {
  "kernelspec": {
   "display_name": "Python 3",
   "language": "python",
   "name": "python3"
  },
  "language_info": {
   "codemirror_mode": {
    "name": "ipython",
    "version": 3
   },
   "file_extension": ".py",
   "mimetype": "text/x-python",
   "name": "python",
   "nbconvert_exporter": "python",
   "pygments_lexer": "ipython3",
   "version": "3.6.1"
  }
 },
 "nbformat": 4,
 "nbformat_minor": 2
}
